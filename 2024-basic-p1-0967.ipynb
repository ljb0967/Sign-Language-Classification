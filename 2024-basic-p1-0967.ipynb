{
 "cells": [
  {
   "cell_type": "markdown",
   "id": "528a7fda",
   "metadata": {
    "papermill": {
     "duration": 0.007789,
     "end_time": "2024-08-18T16:22:22.484832",
     "exception": false,
     "start_time": "2024-08-18T16:22:22.477043",
     "status": "completed"
    },
    "tags": []
   },
   "source": [
    "## 데이터셋 설명\n",
    "- 본 데이터셋은 텍스트 정보와 직무에 대한 메타 정보로 구성되어 있습니다.\n",
    "- 데이터셋에는 길이 제한이 없는 잡 포스팅과, 해당 포스팅이 진짜인지, 혹은 가짜인지의 여부가 포함되어 있습니다.\n",
    "- 자연어(Natrual Language) 데이터, 그 중에서도 영어 데이터를 전처리하여 텍스트 데이터를 딥러닝에 적용하는 과정을 통해, 데이터 전처리와 특징 추출의 과정을 배워보시길 바랍니다.\n",
    "\n",
    "## 자연어 처리 (Natural Language Processing, NLP)\n",
    "- 자연어 데이터를 머신러닝에 사용하기 위해서는 데이터를 머신러닝에 사용할 수 있도록 전처리하는 과정이 필요합니다.\n",
    "- 일반적으로 머신러닝에 사용되는 데이터가 어떤 형태이고, 자연어가 이와 어떻게 다른지 생각해봅시다.\n",
    "    - 데이터의 크기: 대부분의 머신러닝 모델들은 고정된 크기의 입력 데이터를 받습니다. 그러나, 자연어는 문장에 따라 길이가 상이합니다. 때문에 자연어를 머신러닝 모델에 투입하려면 데이터를 고정된 크기로 변환해줘야 합니다.\n",
    "    - 데이터의 형태: 머신러닝 모델들은 실수 데이터를 입력 받습니다. 그러나, 자연어 데이터는 문자형(char, string)으로 되어있습니다.\n",
    "- 이러한 문제들로 자연어 처리에서는 전처리 방식이 매우 중요합니다."
   ]
  },
  {
   "cell_type": "code",
   "execution_count": 1,
   "id": "588622f4",
   "metadata": {
    "execution": {
     "iopub.execute_input": "2024-08-18T16:22:22.501907Z",
     "iopub.status.busy": "2024-08-18T16:22:22.501170Z",
     "iopub.status.idle": "2024-08-18T16:22:29.898413Z",
     "shell.execute_reply": "2024-08-18T16:22:29.897486Z"
    },
    "papermill": {
     "duration": 7.408777,
     "end_time": "2024-08-18T16:22:29.901105",
     "exception": false,
     "start_time": "2024-08-18T16:22:22.492328",
     "status": "completed"
    },
    "tags": []
   },
   "outputs": [],
   "source": [
    "# 라이브러리 임포트\n",
    "import os\n",
    "import random\n",
    "from PIL import Image\n",
    "\n",
    "import numpy as np\n",
    "import pandas as pd\n",
    "\n",
    "import torch\n",
    "import torch.nn as nn\n",
    "from torch.utils.data import TensorDataset, DataLoader\n",
    "\n",
    "from tqdm import tqdm\n",
    "\n",
    "from sklearn.metrics import accuracy_score\n",
    "\n",
    "import torchvision\n",
    "from torchvision.models import VGG16_Weights\n",
    "from torchvision.transforms import v2"
   ]
  },
  {
   "cell_type": "code",
   "execution_count": 2,
   "id": "68d0514f",
   "metadata": {
    "execution": {
     "iopub.execute_input": "2024-08-18T16:22:29.918744Z",
     "iopub.status.busy": "2024-08-18T16:22:29.918254Z",
     "iopub.status.idle": "2024-08-18T16:22:29.923411Z",
     "shell.execute_reply": "2024-08-18T16:22:29.922478Z"
    },
    "papermill": {
     "duration": 0.016212,
     "end_time": "2024-08-18T16:22:29.925479",
     "exception": false,
     "start_time": "2024-08-18T16:22:29.909267",
     "status": "completed"
    },
    "tags": []
   },
   "outputs": [],
   "source": [
    "# 하이퍼파라미터\n",
    "args = {\n",
    "    \"train_path\" : \"/kaggle/input/2024-outta-basic-p-1/train.csv\",      # train 데이터 경로\n",
    "    \"test_path\" : \"/kaggle/input/2024-outta-basic-p-1/test.csv\",       # test 데이터 경로\n",
    "    \"submit_path\" : \"/kaggle/input/2024-outta-basic-p-1/sample_submission.csv\",     # submit 파일 경로\n",
    "    \"batch_size\" : 64,\n",
    "    \"epochs\" : 5,\n",
    "    \"lr\" : 2e-5, #원래 2e-5\n",
    "    \"seed_val\" : 42         # 절대 수정하지 마세요.\n",
    "}"
   ]
  },
  {
   "cell_type": "code",
   "execution_count": 3,
   "id": "9a869502",
   "metadata": {
    "execution": {
     "iopub.execute_input": "2024-08-18T16:22:29.942375Z",
     "iopub.status.busy": "2024-08-18T16:22:29.942061Z",
     "iopub.status.idle": "2024-08-18T16:22:30.045532Z",
     "shell.execute_reply": "2024-08-18T16:22:30.044152Z"
    },
    "papermill": {
     "duration": 0.114692,
     "end_time": "2024-08-18T16:22:30.048045",
     "exception": false,
     "start_time": "2024-08-18T16:22:29.933353",
     "status": "completed"
    },
    "tags": []
   },
   "outputs": [],
   "source": [
    "# 랜덤시드 고정하기\n",
    "seed = args[\"seed_val\"]\n",
    "random.seed(seed)\n",
    "np.random.seed(seed)\n",
    "torch.manual_seed(seed)\n",
    "if torch.cuda.is_available() : \n",
    "    torch.cuda.manual_seed(seed)\n",
    "    torch.cuda.manual_seed_all(seed)\n",
    "torch.backends.cudnn.benchmark = False\n",
    "torch.backends.cudnn.deterministic = True\n",
    "\n",
    "# 디바이스 선택\n",
    "device = torch.device('cuda' if torch.cuda.is_available() else 'cpu')"
   ]
  },
  {
   "cell_type": "code",
   "execution_count": 4,
   "id": "99abf1f0",
   "metadata": {
    "execution": {
     "iopub.execute_input": "2024-08-18T16:22:30.064810Z",
     "iopub.status.busy": "2024-08-18T16:22:30.064465Z",
     "iopub.status.idle": "2024-08-18T16:22:44.586664Z",
     "shell.execute_reply": "2024-08-18T16:22:44.585345Z"
    },
    "papermill": {
     "duration": 14.533508,
     "end_time": "2024-08-18T16:22:44.589230",
     "exception": false,
     "start_time": "2024-08-18T16:22:30.055722",
     "status": "completed"
    },
    "tags": []
   },
   "outputs": [
    {
     "name": "stdout",
     "output_type": "stream",
     "text": [
      "Collecting torchsummary\r\n",
      "  Downloading torchsummary-1.5.1-py3-none-any.whl.metadata (296 bytes)\r\n",
      "Downloading torchsummary-1.5.1-py3-none-any.whl (2.8 kB)\r\n",
      "Installing collected packages: torchsummary\r\n",
      "Successfully installed torchsummary-1.5.1\r\n",
      "Note: you may need to restart the kernel to use updated packages.\n"
     ]
    }
   ],
   "source": [
    "%pip install torchsummary ## model을 요약하기 위해 torchsummary 설치\n",
    "from torchsummary import summary as summary_## 모델 정보를 확인하기 위해 torchsummary 함수 import\n",
    "\n",
    "## 모델의 형태를 출력하기 위한 함수 \n",
    "def summary_model(model, input_shape=(3,32,32)):\n",
    "    model = model.to(device)\n",
    "    summary_(model, input_shape) ## (model, (input shape))"
   ]
  },
  {
   "cell_type": "markdown",
   "id": "5cfdc6e6",
   "metadata": {
    "papermill": {
     "duration": 0.008388,
     "end_time": "2024-08-18T16:22:44.606609",
     "exception": false,
     "start_time": "2024-08-18T16:22:44.598221",
     "status": "completed"
    },
    "tags": []
   },
   "source": [
    "# **1. 데이터셋**"
   ]
  },
  {
   "cell_type": "markdown",
   "id": "8596d151",
   "metadata": {
    "papermill": {
     "duration": 0.008162,
     "end_time": "2024-08-18T16:22:44.623176",
     "exception": false,
     "start_time": "2024-08-18T16:22:44.615014",
     "status": "completed"
    },
    "tags": []
   },
   "source": [
    "## **(1) 데이터 불러오기 및 전처리**"
   ]
  },
  {
   "cell_type": "code",
   "execution_count": 5,
   "id": "35678aeb",
   "metadata": {
    "execution": {
     "iopub.execute_input": "2024-08-18T16:22:44.641628Z",
     "iopub.status.busy": "2024-08-18T16:22:44.641247Z",
     "iopub.status.idle": "2024-08-18T16:22:50.123579Z",
     "shell.execute_reply": "2024-08-18T16:22:50.122424Z"
    },
    "papermill": {
     "duration": 5.494829,
     "end_time": "2024-08-18T16:22:50.126247",
     "exception": false,
     "start_time": "2024-08-18T16:22:44.631418",
     "status": "completed"
    },
    "tags": []
   },
   "outputs": [],
   "source": [
    "# 훈련 및 테스트 데이터 로드\n",
    "train = pd.read_csv(args['train_path'])\n",
    "test = pd.read_csv(args['test_path'])\n",
    "\n",
    "# (1-1) 훈련 데이터에서 특징(x_train)과 라벨(y_train) 분리\n",
    "x_train = train.iloc[:, 1:]  # 첫 번째 열을 제외한 모든 열 (특징)\n",
    "y_train = train['label']  # 'label' 열 (라벨)\n",
    "x_test = test   # 테스트 데이터\n",
    "\n",
    "# (1-2) numpy 배열로 변환 후, torch Tensor로 변환\n",
    "x_train = torch.tensor(np.array(x_train.astype(dtype='float32')))\n",
    "y_train = torch.tensor(np.array(y_train.astype(dtype='int64')))\n",
    "x_test = torch.tensor(np.array(x_test.astype(dtype='float32')))\n",
    "\n",
    "# (1-3) 데이터를 (N, H, W, C) 형태로 재구성 (reshape 함수 이용)\n",
    "x_train = x_train.reshape(len(x_train), 28, 28, 1)\n",
    "x_test = x_test.reshape(len(x_test), 28, 28, 1)\n",
    "\n",
    "# (1-4) 데이터를 (N, C, H, W) 형태로 변환 (permute 함수 이용)\n",
    "x_train = x_train.permute(0, 3, 1, 2)\n",
    "x_test = x_test.permute(0, 3, 1, 2)\n",
    "\n",
    "# (1-5) 데이터를 (N, 3, 28, 28) 형태로 변환 (expand 함수 이용)\n",
    "x_train = x_train.expand(-1, 3, -1, -1)\n",
    "x_test = x_test.expand(-1, 3, -1, -1)"
   ]
  },
  {
   "cell_type": "code",
   "execution_count": 6,
   "id": "efdd403a",
   "metadata": {
    "execution": {
     "iopub.execute_input": "2024-08-18T16:22:50.144575Z",
     "iopub.status.busy": "2024-08-18T16:22:50.143933Z",
     "iopub.status.idle": "2024-08-18T16:22:50.151043Z",
     "shell.execute_reply": "2024-08-18T16:22:50.150235Z"
    },
    "papermill": {
     "duration": 0.01788,
     "end_time": "2024-08-18T16:22:50.152987",
     "exception": false,
     "start_time": "2024-08-18T16:22:50.135107",
     "status": "completed"
    },
    "tags": []
   },
   "outputs": [
    {
     "data": {
      "text/plain": [
       "torch.Size([27455, 3, 28, 28])"
      ]
     },
     "execution_count": 6,
     "metadata": {},
     "output_type": "execute_result"
    }
   ],
   "source": [
    "x_train.shape"
   ]
  },
  {
   "cell_type": "code",
   "execution_count": 7,
   "id": "ddb8c1f7",
   "metadata": {
    "execution": {
     "iopub.execute_input": "2024-08-18T16:22:50.170257Z",
     "iopub.status.busy": "2024-08-18T16:22:50.169944Z",
     "iopub.status.idle": "2024-08-18T16:22:50.175667Z",
     "shell.execute_reply": "2024-08-18T16:22:50.174695Z"
    },
    "papermill": {
     "duration": 0.016755,
     "end_time": "2024-08-18T16:22:50.177921",
     "exception": false,
     "start_time": "2024-08-18T16:22:50.161166",
     "status": "completed"
    },
    "tags": []
   },
   "outputs": [
    {
     "data": {
      "text/plain": [
       "torch.Size([7172, 3, 28, 28])"
      ]
     },
     "execution_count": 7,
     "metadata": {},
     "output_type": "execute_result"
    }
   ],
   "source": [
    "x_test.shape"
   ]
  },
  {
   "cell_type": "markdown",
   "id": "1423aba8",
   "metadata": {
    "papermill": {
     "duration": 0.008199,
     "end_time": "2024-08-18T16:22:50.193856",
     "exception": false,
     "start_time": "2024-08-18T16:22:50.185657",
     "status": "completed"
    },
    "tags": []
   },
   "source": [
    "## **(2) 데이터셋과 데이터로더**"
   ]
  },
  {
   "cell_type": "code",
   "execution_count": 8,
   "id": "d53f109a",
   "metadata": {
    "execution": {
     "iopub.execute_input": "2024-08-18T16:22:50.212033Z",
     "iopub.status.busy": "2024-08-18T16:22:50.211221Z",
     "iopub.status.idle": "2024-08-18T16:22:50.217399Z",
     "shell.execute_reply": "2024-08-18T16:22:50.216410Z"
    },
    "papermill": {
     "duration": 0.017306,
     "end_time": "2024-08-18T16:22:50.219441",
     "exception": false,
     "start_time": "2024-08-18T16:22:50.202135",
     "status": "completed"
    },
    "tags": []
   },
   "outputs": [],
   "source": [
    "# 훈련 및 테스트 데이터셋 로드\n",
    "train_dataset = TensorDataset(x_train, y_train)\n",
    "test_dataset = TensorDataset(x_test)\n",
    "\n",
    "# 데이터로더 정의\n",
    "train_dataloader = torch.utils.data.DataLoader(train_dataset, batch_size=args[\"batch_size\"], shuffle=True)\n",
    "test_dataloader = torch.utils.data.DataLoader(test_dataset, batch_size=1, shuffle=False)"
   ]
  },
  {
   "cell_type": "markdown",
   "id": "b5216ace",
   "metadata": {
    "papermill": {
     "duration": 0.008418,
     "end_time": "2024-08-18T16:22:50.236504",
     "exception": false,
     "start_time": "2024-08-18T16:22:50.228086",
     "status": "completed"
    },
    "tags": []
   },
   "source": [
    "# **2. 모델**\n",
    "사전학습된 VGG16을 사용하여 프로젝트를 수행하세요."
   ]
  },
  {
   "cell_type": "markdown",
   "id": "0bba2eab",
   "metadata": {
    "papermill": {
     "duration": 0.00809,
     "end_time": "2024-08-18T16:22:50.252834",
     "exception": false,
     "start_time": "2024-08-18T16:22:50.244744",
     "status": "completed"
    },
    "tags": []
   },
   "source": [
    "## **(1) VGG16 특징 추출기를 불러오기**"
   ]
  },
  {
   "cell_type": "code",
   "execution_count": 9,
   "id": "53952c45",
   "metadata": {
    "execution": {
     "iopub.execute_input": "2024-08-18T16:22:50.271620Z",
     "iopub.status.busy": "2024-08-18T16:22:50.270818Z",
     "iopub.status.idle": "2024-08-18T16:22:56.197801Z",
     "shell.execute_reply": "2024-08-18T16:22:56.196807Z"
    },
    "papermill": {
     "duration": 5.939317,
     "end_time": "2024-08-18T16:22:56.200675",
     "exception": false,
     "start_time": "2024-08-18T16:22:50.261358",
     "status": "completed"
    },
    "tags": []
   },
   "outputs": [
    {
     "name": "stderr",
     "output_type": "stream",
     "text": [
      "Downloading: \"https://download.pytorch.org/models/vgg16-397923af.pth\" to /root/.cache/torch/hub/checkpoints/vgg16-397923af.pth\n",
      "100%|██████████| 528M/528M [00:03<00:00, 162MB/s]\n"
     ]
    },
    {
     "name": "stdout",
     "output_type": "stream",
     "text": [
      "----------------------------------------------------------------\n",
      "        Layer (type)               Output Shape         Param #\n",
      "================================================================\n",
      "            Conv2d-1           [-1, 64, 32, 32]           1,792\n",
      "              ReLU-2           [-1, 64, 32, 32]               0\n",
      "            Conv2d-3           [-1, 64, 32, 32]          36,928\n",
      "              ReLU-4           [-1, 64, 32, 32]               0\n",
      "         MaxPool2d-5           [-1, 64, 16, 16]               0\n",
      "            Conv2d-6          [-1, 128, 16, 16]          73,856\n",
      "              ReLU-7          [-1, 128, 16, 16]               0\n",
      "            Conv2d-8          [-1, 128, 16, 16]         147,584\n",
      "              ReLU-9          [-1, 128, 16, 16]               0\n",
      "        MaxPool2d-10            [-1, 128, 8, 8]               0\n",
      "           Conv2d-11            [-1, 256, 8, 8]         295,168\n",
      "             ReLU-12            [-1, 256, 8, 8]               0\n",
      "           Conv2d-13            [-1, 256, 8, 8]         590,080\n",
      "             ReLU-14            [-1, 256, 8, 8]               0\n",
      "           Conv2d-15            [-1, 256, 8, 8]         590,080\n",
      "             ReLU-16            [-1, 256, 8, 8]               0\n",
      "        MaxPool2d-17            [-1, 256, 4, 4]               0\n",
      "           Conv2d-18            [-1, 512, 4, 4]       1,180,160\n",
      "             ReLU-19            [-1, 512, 4, 4]               0\n",
      "           Conv2d-20            [-1, 512, 4, 4]       2,359,808\n",
      "             ReLU-21            [-1, 512, 4, 4]               0\n",
      "           Conv2d-22            [-1, 512, 4, 4]       2,359,808\n",
      "             ReLU-23            [-1, 512, 4, 4]               0\n",
      "        MaxPool2d-24            [-1, 512, 2, 2]               0\n",
      "           Conv2d-25            [-1, 512, 2, 2]       2,359,808\n",
      "             ReLU-26            [-1, 512, 2, 2]               0\n",
      "           Conv2d-27            [-1, 512, 2, 2]       2,359,808\n",
      "             ReLU-28            [-1, 512, 2, 2]               0\n",
      "           Conv2d-29            [-1, 512, 2, 2]       2,359,808\n",
      "             ReLU-30            [-1, 512, 2, 2]               0\n",
      "        MaxPool2d-31            [-1, 512, 1, 1]               0\n",
      "AdaptiveAvgPool2d-32            [-1, 512, 1, 1]               0\n",
      "================================================================\n",
      "Total params: 14,714,688\n",
      "Trainable params: 14,714,688\n",
      "Non-trainable params: 0\n",
      "----------------------------------------------------------------\n",
      "Input size (MB): 0.01\n",
      "Forward/backward pass size (MB): 4.46\n",
      "Params size (MB): 56.13\n",
      "Estimated Total Size (MB): 60.60\n",
      "----------------------------------------------------------------\n"
     ]
    }
   ],
   "source": [
    "# (3-1) VGG16 모델 로드 및 특징 추출 부분 사용\n",
    "# 가중치는 'VGG16_Weights.IMAGENET1K_V1' 사용하세요.\n",
    "model = torchvision.models.vgg16(weights=VGG16_Weights.IMAGENET1K_V1).features\n",
    "\n",
    "# (3-2) 모델에 글로벌 평균 풀링 계층 추가\n",
    "model.global_avg_pool2d = nn.AdaptiveAvgPool2d((1, 1))         #수정 필요할 지도\n",
    "\n",
    "# 모델 요약 정보 출력\n",
    "summary_model(model)"
   ]
  },
  {
   "cell_type": "markdown",
   "id": "23b71f0f",
   "metadata": {
    "papermill": {
     "duration": 0.010948,
     "end_time": "2024-08-18T16:22:56.222781",
     "exception": false,
     "start_time": "2024-08-18T16:22:56.211833",
     "status": "completed"
    },
    "tags": []
   },
   "source": [
    "## **(2) VGG16 특징 추출기를 동결시키기**\n",
    "1. 계산 비용 절감:\n",
    "    - 모델의 일부 파라미터를 동결하면 그 부분은 학습되지 않기 때문에 계산량이 줄어듭니다. \n",
    "\n",
    "    - 이는 학습 속도를 빠르게 하고, GPU 메모리 사용량을 줄이는 데 도움이 됩니다.\n",
    "\n",
    "2. 오버피팅 방지:\n",
    "    - 작은 데이터셋을 사용할 때 모델이 쉽게 오버피팅될 수 있습니다. \n",
    "    \n",
    "    - 이미 학습된 파라미터를 동결하면 모델이 새로운 데이터에 맞춰 과도하게 학습되는 것을 방지할 수 있습니다.\n",
    "\n",
    "\n",
    "3. 전이 학습(Transfer Learning):\n",
    "    - 사전 학습된 모델(예: ImageNet 데이터셋으로 학습된 모델)의 초반 레이어는 일반적인 특징(예: 에지, 텍스처 등)을 잘 잡아냅니다. \n",
    "\n",
    "    - 이러한 특징을 이용하면 새로운 데이터셋에서도 좋은 성능을 낼 수 있습니다. \n",
    "\n",
    "    - 모델의 후반 레이어만 재학습하여 새로운 데이터셋에 맞출 수 있습니다.\n",
    "\n",
    "4. 더 빠른 수렴:\n",
    "    - 동결된 파라미터는 변화하지 않으므로 모델이 더 빠르게 수렴할 수 있습니다. \n",
    "    \n",
    "    - 이는 전체 학습 시간을 단축시키는 데 도움이 됩니다."
   ]
  },
  {
   "cell_type": "code",
   "execution_count": 10,
   "id": "d247c9a0",
   "metadata": {
    "execution": {
     "iopub.execute_input": "2024-08-18T16:22:56.247005Z",
     "iopub.status.busy": "2024-08-18T16:22:56.246626Z",
     "iopub.status.idle": "2024-08-18T16:22:56.259292Z",
     "shell.execute_reply": "2024-08-18T16:22:56.257725Z"
    },
    "papermill": {
     "duration": 0.026688,
     "end_time": "2024-08-18T16:22:56.261202",
     "exception": false,
     "start_time": "2024-08-18T16:22:56.234514",
     "status": "completed"
    },
    "tags": []
   },
   "outputs": [
    {
     "name": "stdout",
     "output_type": "stream",
     "text": [
      "----------------------------------------------------------------\n",
      "        Layer (type)               Output Shape         Param #\n",
      "================================================================\n",
      "            Conv2d-1           [-1, 64, 32, 32]           1,792\n",
      "              ReLU-2           [-1, 64, 32, 32]               0\n",
      "            Conv2d-3           [-1, 64, 32, 32]          36,928\n",
      "              ReLU-4           [-1, 64, 32, 32]               0\n",
      "         MaxPool2d-5           [-1, 64, 16, 16]               0\n",
      "            Conv2d-6          [-1, 128, 16, 16]          73,856\n",
      "              ReLU-7          [-1, 128, 16, 16]               0\n",
      "            Conv2d-8          [-1, 128, 16, 16]         147,584\n",
      "              ReLU-9          [-1, 128, 16, 16]               0\n",
      "        MaxPool2d-10            [-1, 128, 8, 8]               0\n",
      "           Conv2d-11            [-1, 256, 8, 8]         295,168\n",
      "             ReLU-12            [-1, 256, 8, 8]               0\n",
      "           Conv2d-13            [-1, 256, 8, 8]         590,080\n",
      "             ReLU-14            [-1, 256, 8, 8]               0\n",
      "           Conv2d-15            [-1, 256, 8, 8]         590,080\n",
      "             ReLU-16            [-1, 256, 8, 8]               0\n",
      "        MaxPool2d-17            [-1, 256, 4, 4]               0\n",
      "           Conv2d-18            [-1, 512, 4, 4]       1,180,160\n",
      "             ReLU-19            [-1, 512, 4, 4]               0\n",
      "           Conv2d-20            [-1, 512, 4, 4]       2,359,808\n",
      "             ReLU-21            [-1, 512, 4, 4]               0\n",
      "           Conv2d-22            [-1, 512, 4, 4]       2,359,808\n",
      "             ReLU-23            [-1, 512, 4, 4]               0\n",
      "        MaxPool2d-24            [-1, 512, 2, 2]               0\n",
      "           Conv2d-25            [-1, 512, 2, 2]       2,359,808\n",
      "             ReLU-26            [-1, 512, 2, 2]               0\n",
      "           Conv2d-27            [-1, 512, 2, 2]       2,359,808\n",
      "             ReLU-28            [-1, 512, 2, 2]               0\n",
      "           Conv2d-29            [-1, 512, 2, 2]       2,359,808\n",
      "             ReLU-30            [-1, 512, 2, 2]               0\n",
      "        MaxPool2d-31            [-1, 512, 1, 1]               0\n",
      "AdaptiveAvgPool2d-32            [-1, 512, 1, 1]               0\n",
      "================================================================\n",
      "Total params: 14,714,688\n",
      "Trainable params: 7,635,264\n",
      "Non-trainable params: 7,079,424\n",
      "----------------------------------------------------------------\n",
      "Input size (MB): 0.01\n",
      "Forward/backward pass size (MB): 4.46\n",
      "Params size (MB): 56.13\n",
      "Estimated Total Size (MB): 60.60\n",
      "----------------------------------------------------------------\n"
     ]
    }
   ],
   "source": [
    "# 모델의 앞부분 파라미터 고정 (동결)\n",
    "for para in model[-8:].parameters(): #이 부분 내가 수정함\n",
    "    para.requires_grad = False\n",
    "\n",
    "# 파라미터 동결 후 모델 요약 정보 출력\n",
    "summary_model(model)"
   ]
  },
  {
   "cell_type": "markdown",
   "id": "0779e49c",
   "metadata": {
    "papermill": {
     "duration": 0.012099,
     "end_time": "2024-08-18T16:22:56.284835",
     "exception": false,
     "start_time": "2024-08-18T16:22:56.272736",
     "status": "completed"
    },
    "tags": []
   },
   "source": [
    "## **(3) VGG16 분류기를 만들기**"
   ]
  },
  {
   "cell_type": "code",
   "execution_count": 11,
   "id": "c52d23cf",
   "metadata": {
    "execution": {
     "iopub.execute_input": "2024-08-18T16:22:56.311121Z",
     "iopub.status.busy": "2024-08-18T16:22:56.310506Z",
     "iopub.status.idle": "2024-08-18T16:22:56.400063Z",
     "shell.execute_reply": "2024-08-18T16:22:56.399026Z"
    },
    "papermill": {
     "duration": 0.104308,
     "end_time": "2024-08-18T16:22:56.402436",
     "exception": false,
     "start_time": "2024-08-18T16:22:56.298128",
     "status": "completed"
    },
    "tags": []
   },
   "outputs": [
    {
     "name": "stdout",
     "output_type": "stream",
     "text": [
      "----------------------------------------------------------------\n",
      "        Layer (type)               Output Shape         Param #\n",
      "================================================================\n",
      "            Conv2d-1           [-1, 64, 32, 32]           1,792\n",
      "              ReLU-2           [-1, 64, 32, 32]               0\n",
      "            Conv2d-3           [-1, 64, 32, 32]          36,928\n",
      "              ReLU-4           [-1, 64, 32, 32]               0\n",
      "         MaxPool2d-5           [-1, 64, 16, 16]               0\n",
      "            Conv2d-6          [-1, 128, 16, 16]          73,856\n",
      "              ReLU-7          [-1, 128, 16, 16]               0\n",
      "            Conv2d-8          [-1, 128, 16, 16]         147,584\n",
      "              ReLU-9          [-1, 128, 16, 16]               0\n",
      "        MaxPool2d-10            [-1, 128, 8, 8]               0\n",
      "           Conv2d-11            [-1, 256, 8, 8]         295,168\n",
      "             ReLU-12            [-1, 256, 8, 8]               0\n",
      "           Conv2d-13            [-1, 256, 8, 8]         590,080\n",
      "             ReLU-14            [-1, 256, 8, 8]               0\n",
      "           Conv2d-15            [-1, 256, 8, 8]         590,080\n",
      "             ReLU-16            [-1, 256, 8, 8]               0\n",
      "        MaxPool2d-17            [-1, 256, 4, 4]               0\n",
      "           Conv2d-18            [-1, 512, 4, 4]       1,180,160\n",
      "             ReLU-19            [-1, 512, 4, 4]               0\n",
      "           Conv2d-20            [-1, 512, 4, 4]       2,359,808\n",
      "             ReLU-21            [-1, 512, 4, 4]               0\n",
      "           Conv2d-22            [-1, 512, 4, 4]       2,359,808\n",
      "             ReLU-23            [-1, 512, 4, 4]               0\n",
      "        MaxPool2d-24            [-1, 512, 2, 2]               0\n",
      "           Conv2d-25            [-1, 512, 2, 2]       2,359,808\n",
      "             ReLU-26            [-1, 512, 2, 2]               0\n",
      "           Conv2d-27            [-1, 512, 2, 2]       2,359,808\n",
      "             ReLU-28            [-1, 512, 2, 2]               0\n",
      "           Conv2d-29            [-1, 512, 2, 2]       2,359,808\n",
      "             ReLU-30            [-1, 512, 2, 2]               0\n",
      "        MaxPool2d-31            [-1, 512, 1, 1]               0\n",
      "AdaptiveAvgPool2d-32            [-1, 512, 1, 1]               0\n",
      "          Flatten-33                  [-1, 512]               0\n",
      "           Linear-34                   [-1, 64]          32,832\n",
      "      BatchNorm1d-35                   [-1, 64]             128\n",
      "          Dropout-36                   [-1, 64]               0\n",
      "           Linear-37                   [-1, 25]           1,625\n",
      "================================================================\n",
      "Total params: 14,749,273\n",
      "Trainable params: 7,669,849\n",
      "Non-trainable params: 7,079,424\n",
      "----------------------------------------------------------------\n",
      "Input size (MB): 0.01\n",
      "Forward/backward pass size (MB): 4.47\n",
      "Params size (MB): 56.26\n",
      "Estimated Total Size (MB): 60.74\n",
      "----------------------------------------------------------------\n"
     ]
    }
   ],
   "source": [
    "# (4-1) 새로운 분류기 정의\n",
    "classifier = nn.Sequential(              #이 부분도 수정 필요\n",
    "    # 25개의 클래스로 분류\n",
    "    \n",
    "    nn.Flatten(),  # 7x7 출력 텐서를 평탄화\n",
    "    nn.Linear(in_features=512, out_features=64),\n",
    "    nn.BatchNorm1d(64),\n",
    "    nn.Dropout(0.5),\n",
    "    nn.Linear(in_features=64, out_features=25)\n",
    ")\n",
    "\n",
    "# (4-2) 모델에 새로운 분류기 추가\n",
    "model.classifier = classifier\n",
    "\n",
    "# 모델을 장치로 이동\n",
    "model = model.to(device)\n",
    "\n",
    "# 최종 모델 요약 정보 출력\n",
    "summary_model(model)"
   ]
  },
  {
   "cell_type": "markdown",
   "id": "c10e5943",
   "metadata": {
    "papermill": {
     "duration": 0.011457,
     "end_time": "2024-08-18T16:22:56.425253",
     "exception": false,
     "start_time": "2024-08-18T16:22:56.413796",
     "status": "completed"
    },
    "tags": []
   },
   "source": [
    "# **3. 학습**"
   ]
  },
  {
   "cell_type": "code",
   "execution_count": 12,
   "id": "d6c4005f",
   "metadata": {
    "execution": {
     "iopub.execute_input": "2024-08-18T16:22:56.451392Z",
     "iopub.status.busy": "2024-08-18T16:22:56.450912Z",
     "iopub.status.idle": "2024-08-18T16:22:56.458309Z",
     "shell.execute_reply": "2024-08-18T16:22:56.456998Z"
    },
    "papermill": {
     "duration": 0.023772,
     "end_time": "2024-08-18T16:22:56.460879",
     "exception": false,
     "start_time": "2024-08-18T16:22:56.437107",
     "status": "completed"
    },
    "tags": []
   },
   "outputs": [
    {
     "name": "stdout",
     "output_type": "stream",
     "text": [
      "ImageClassification(\n",
      "    crop_size=[224]\n",
      "    resize_size=[32]\n",
      "    mean=[0.485, 0.456, 0.406]\n",
      "    std=[0.229, 0.224, 0.225]\n",
      "    interpolation=InterpolationMode.BILINEAR\n",
      ")\n"
     ]
    }
   ],
   "source": [
    "# VGG16에서 사용한 transform을 이용\n",
    "transform = VGG16_Weights.DEFAULT.transforms(antialias=False)\n",
    "\n",
    "# resize 크기는 32가 되도록 설정\n",
    "transform.resize_size=[32]\n",
    "\n",
    "# transform 확인하기\n",
    "print(transform)"
   ]
  },
  {
   "cell_type": "code",
   "execution_count": 13,
   "id": "49104050",
   "metadata": {
    "execution": {
     "iopub.execute_input": "2024-08-18T16:22:56.495985Z",
     "iopub.status.busy": "2024-08-18T16:22:56.495155Z",
     "iopub.status.idle": "2024-08-18T16:52:05.984337Z",
     "shell.execute_reply": "2024-08-18T16:52:05.983085Z"
    },
    "papermill": {
     "duration": 1749.511041,
     "end_time": "2024-08-18T16:52:05.987033",
     "exception": false,
     "start_time": "2024-08-18T16:22:56.475992",
     "status": "completed"
    },
    "tags": []
   },
   "outputs": [
    {
     "name": "stdout",
     "output_type": "stream",
     "text": [
      "Epoch 1/5\n"
     ]
    },
    {
     "name": "stderr",
     "output_type": "stream",
     "text": [
      "100%|██████████| 429/429 [05:44<00:00,  1.24it/s]\n"
     ]
    },
    {
     "name": "stdout",
     "output_type": "stream",
     "text": [
      "CheckPoint : model_state_dict_epoch_1.pth\n",
      "train_loss : 1.6388346754309737, train_acc : 0.6789038507788507\n",
      "\n",
      "Epoch 2/5\n"
     ]
    },
    {
     "name": "stderr",
     "output_type": "stream",
     "text": [
      "100%|██████████| 429/429 [05:50<00:00,  1.22it/s]\n"
     ]
    },
    {
     "name": "stdout",
     "output_type": "stream",
     "text": [
      "CheckPoint : model_state_dict_epoch_2.pth\n",
      "train_loss : 0.6035569190006433, train_acc : 0.9903481934731935\n",
      "\n",
      "Epoch 3/5\n"
     ]
    },
    {
     "name": "stderr",
     "output_type": "stream",
     "text": [
      "100%|██████████| 429/429 [05:51<00:00,  1.22it/s]\n"
     ]
    },
    {
     "name": "stdout",
     "output_type": "stream",
     "text": [
      "CheckPoint : model_state_dict_epoch_3.pth\n",
      "train_loss : 0.37411279500503364, train_acc : 0.9995993589743589\n",
      "\n",
      "Epoch 4/5\n"
     ]
    },
    {
     "name": "stderr",
     "output_type": "stream",
     "text": [
      "100%|██████████| 429/429 [05:51<00:00,  1.22it/s]\n"
     ]
    },
    {
     "name": "stdout",
     "output_type": "stream",
     "text": [
      "CheckPoint : model_state_dict_epoch_4.pth\n",
      "train_loss : 0.2798570653636417, train_acc : 1.0\n",
      "\n",
      "Epoch 5/5\n"
     ]
    },
    {
     "name": "stderr",
     "output_type": "stream",
     "text": [
      "100%|██████████| 429/429 [05:50<00:00,  1.22it/s]"
     ]
    },
    {
     "name": "stdout",
     "output_type": "stream",
     "text": [
      "CheckPoint : model_state_dict_epoch_5.pth\n",
      "train_loss : 0.22294528487123252, train_acc : 0.9999271561771562\n",
      "\n"
     ]
    },
    {
     "name": "stderr",
     "output_type": "stream",
     "text": [
      "\n"
     ]
    }
   ],
   "source": [
    "def train(train_dataloader, model, device, args):\n",
    "    \"\"\"\n",
    "    주어진 데이터로 모델을 학습시키는 함수입니다.\n",
    "\n",
    "    Args:\n",
    "        train_dataloader (DataLoader): 학습 데이터를 제공하는 DataLoader 객체\n",
    "        valid_dataloader (DataLoader): 검증 데이터를 제공하는 DataLoader 객체\n",
    "        model (torch.nn.Module): 학습할 모델\n",
    "        device (torch.device): 사용할 디바이스 (CPU 또는 GPU)\n",
    "        args (dict): 학습 관련 인자들을 포함한 딕셔너리\n",
    "\n",
    "    Returns:\n",
    "        None\n",
    "    \"\"\"\n",
    "    \n",
    "    # (5-1) Adam 옵티마이저와 교차 엔트로피 손실 함수 정의\n",
    "    optimizer = torch.optim.Adam(model.parameters(), lr=args[\"lr\"])\n",
    "    loss_fn = nn.CrossEntropyLoss().to(device)\n",
    "    \n",
    "    model.zero_grad()  # 모델의 그래디언트 초기화\n",
    "    \n",
    "    for epoch in range(args[\"epochs\"]):\n",
    "        model.train()       # 모델을 훈련 모드로 설정\n",
    "        \n",
    "        total_loss = 0      # 전체 손실 초기화\n",
    "        total_accuracy = 0  # 전체 정확도 초기화\n",
    "        \n",
    "        print(f'Epoch {epoch + 1}/{args[\"epochs\"]}')\n",
    "        \n",
    "        for image, label in tqdm(train_dataloader):\n",
    "            image = transform(image).to(device)\n",
    "            label = label.to(device)\n",
    "            \n",
    "            # (5-2) 모델을 사용하여 예측 수행\n",
    "            pred = model(image)\n",
    "            \n",
    "            # (5-3) 손실 계산 및 누적\n",
    "            loss = loss_fn(pred, label)\n",
    "            \n",
    "            # (5-4) 역전파를 통해 기울기 계산\n",
    "            loss.backward()\n",
    "            \n",
    "            # (5-5) 파라미터 업데이트\n",
    "            optimizer.step()\n",
    "            \n",
    "            # (5-6) 모델의 그래디언트 초기화\n",
    "            optimizer.zero_grad()\n",
    "            \n",
    "            # loss 계산\n",
    "            total_loss += loss.item()\n",
    "            \n",
    "            # accaracy 계산\n",
    "            label = label.cpu()\n",
    "            pred = pred.argmax(dim = 1).cpu()\n",
    "            accuracy = accuracy_score(label, pred)\n",
    "            total_accuracy += accuracy\n",
    "        \n",
    "        # 평균 손실과 정확도 계산\n",
    "        avg_loss = total_loss / len(train_dataloader)\n",
    "        avg_accuracy = total_accuracy / len(train_dataloader)\n",
    "        \n",
    "        # 모델 체크포인트 저장\n",
    "        os.makedirs(\"results\", exist_ok=True)\n",
    "        torch.save({\n",
    "            'epoch': epoch,       #'model': model,\n",
    "            'model_state_dict': model.state_dict(),\n",
    "            'optimizer_state_dict': optimizer.state_dict(),\n",
    "            'loss': loss.item,\n",
    "            }, f'./results/model_state_dict_epoch_{epoch+1}.pth')\n",
    "        \n",
    "        # 현재 에포크의 손실과 정확도 출력\n",
    "        print(f'CheckPoint : model_state_dict_epoch_{epoch+1}.pth')\n",
    "        print(f'train_loss : {avg_loss}, train_acc : {avg_accuracy}\\n')\n",
    "\n",
    "\n",
    "if __name__ == \"__main__\":\n",
    "    train(train_dataloader, model, device, args)"
   ]
  },
  {
   "cell_type": "markdown",
   "id": "9d2138c8",
   "metadata": {
    "papermill": {
     "duration": 0.189728,
     "end_time": "2024-08-18T16:52:06.365639",
     "exception": false,
     "start_time": "2024-08-18T16:52:06.175911",
     "status": "completed"
    },
    "tags": []
   },
   "source": [
    "# **4. 평가**"
   ]
  },
  {
   "cell_type": "code",
   "execution_count": 14,
   "id": "40dc39a3",
   "metadata": {
    "execution": {
     "iopub.execute_input": "2024-08-18T16:52:06.760755Z",
     "iopub.status.busy": "2024-08-18T16:52:06.759898Z",
     "iopub.status.idle": "2024-08-18T16:53:01.106752Z",
     "shell.execute_reply": "2024-08-18T16:53:01.105013Z"
    },
    "papermill": {
     "duration": 54.538801,
     "end_time": "2024-08-18T16:53:01.109248",
     "exception": false,
     "start_time": "2024-08-18T16:52:06.570447",
     "status": "completed"
    },
    "tags": []
   },
   "outputs": [
    {
     "name": "stderr",
     "output_type": "stream",
     "text": [
      "100%|██████████| 7172/7172 [00:54<00:00, 132.00it/s]\n"
     ]
    }
   ],
   "source": [
    "def test(test_dataloader, model, device):\n",
    "    \"\"\"\n",
    "    모델의 테스트를 수행하는 함수입니다.\n",
    "\n",
    "    Args:\n",
    "        test_dataloader (DataLoader): 테스트 데이터를 제공하는 DataLoader 객체\n",
    "        model (torch.nn.Module): 평가할 모델\n",
    "        device (torch.device): 사용할 디바이스 (CPU 또는 GPU)\n",
    "\n",
    "    Returns:\n",
    "        preds (list): 각 입력 예시에 대한 모델의 예측 결과 리스트\n",
    "    \"\"\"\n",
    "    model.eval()    # 모델을 평가 모드로 설정\n",
    "    preds = []      # 예측 결과를 저장할 리스트\n",
    "    \n",
    "    # 각 배치에 대해 예측 수행\n",
    "    for image in tqdm(test_dataloader):\n",
    "        image = transform(image[0]).to(device)\n",
    "        \n",
    "        # 기울기 계산을 비활성화하여 예측 수행\n",
    "        with torch.no_grad():\n",
    "            # (6-1) 모델에 입력을 전달하여 예측 수행\n",
    "            pred = model(image)\n",
    "            \n",
    "            # (6-2) argmax를 이용하여 예측 결과에서 가장 높은 값의 인덱스를 선택\n",
    "            index = pred.argmax(dim=1)\n",
    "\n",
    "            # (6-3) 예측 결과를 CPU로 이동\n",
    "            index = index.cpu()\n",
    "\n",
    "            # (6-4) 예측을 numpy 배열로 변환\n",
    "            index = index.numpy()\n",
    "\n",
    "            # (6-5) 예측 결과를 리스트에 추가\n",
    "            preds.extend(index)\n",
    "    \n",
    "    return preds\n",
    "\n",
    "\n",
    "if __name__ == \"__main__\":\n",
    "    # 예측값을 얻기 위해 test 함수 호출\n",
    "    preds = test(test_dataloader, model, device)"
   ]
  },
  {
   "cell_type": "code",
   "execution_count": 15,
   "id": "ac8b31bb",
   "metadata": {
    "execution": {
     "iopub.execute_input": "2024-08-18T16:53:01.589558Z",
     "iopub.status.busy": "2024-08-18T16:53:01.589158Z",
     "iopub.status.idle": "2024-08-18T16:53:01.657818Z",
     "shell.execute_reply": "2024-08-18T16:53:01.656991Z"
    },
    "papermill": {
     "duration": 0.303183,
     "end_time": "2024-08-18T16:53:01.660247",
     "exception": false,
     "start_time": "2024-08-18T16:53:01.357064",
     "status": "completed"
    },
    "tags": []
   },
   "outputs": [],
   "source": [
    "submit = pd.read_csv(args[\"submit_path\"])\n",
    "submit[\"label\"] = preds\n",
    "submit.to_csv(\"submission_p1.csv\", index = False)"
   ]
  },
  {
   "cell_type": "code",
   "execution_count": 16,
   "id": "05207d08",
   "metadata": {
    "execution": {
     "iopub.execute_input": "2024-08-18T16:53:02.181066Z",
     "iopub.status.busy": "2024-08-18T16:53:02.180667Z",
     "iopub.status.idle": "2024-08-18T16:53:02.197277Z",
     "shell.execute_reply": "2024-08-18T16:53:02.196272Z"
    },
    "papermill": {
     "duration": 0.308738,
     "end_time": "2024-08-18T16:53:02.199823",
     "exception": false,
     "start_time": "2024-08-18T16:53:01.891085",
     "status": "completed"
    },
    "tags": []
   },
   "outputs": [
    {
     "data": {
      "text/html": [
       "<div>\n",
       "<style scoped>\n",
       "    .dataframe tbody tr th:only-of-type {\n",
       "        vertical-align: middle;\n",
       "    }\n",
       "\n",
       "    .dataframe tbody tr th {\n",
       "        vertical-align: top;\n",
       "    }\n",
       "\n",
       "    .dataframe thead th {\n",
       "        text-align: right;\n",
       "    }\n",
       "</style>\n",
       "<table border=\"1\" class=\"dataframe\">\n",
       "  <thead>\n",
       "    <tr style=\"text-align: right;\">\n",
       "      <th></th>\n",
       "      <th>id</th>\n",
       "      <th>label</th>\n",
       "    </tr>\n",
       "  </thead>\n",
       "  <tbody>\n",
       "    <tr>\n",
       "      <th>0</th>\n",
       "      <td>0</td>\n",
       "      <td>6</td>\n",
       "    </tr>\n",
       "    <tr>\n",
       "      <th>1</th>\n",
       "      <td>1</td>\n",
       "      <td>5</td>\n",
       "    </tr>\n",
       "    <tr>\n",
       "      <th>2</th>\n",
       "      <td>2</td>\n",
       "      <td>10</td>\n",
       "    </tr>\n",
       "    <tr>\n",
       "      <th>3</th>\n",
       "      <td>3</td>\n",
       "      <td>0</td>\n",
       "    </tr>\n",
       "    <tr>\n",
       "      <th>4</th>\n",
       "      <td>4</td>\n",
       "      <td>3</td>\n",
       "    </tr>\n",
       "    <tr>\n",
       "      <th>...</th>\n",
       "      <td>...</td>\n",
       "      <td>...</td>\n",
       "    </tr>\n",
       "    <tr>\n",
       "      <th>7167</th>\n",
       "      <td>7167</td>\n",
       "      <td>1</td>\n",
       "    </tr>\n",
       "    <tr>\n",
       "      <th>7168</th>\n",
       "      <td>7168</td>\n",
       "      <td>12</td>\n",
       "    </tr>\n",
       "    <tr>\n",
       "      <th>7169</th>\n",
       "      <td>7169</td>\n",
       "      <td>2</td>\n",
       "    </tr>\n",
       "    <tr>\n",
       "      <th>7170</th>\n",
       "      <td>7170</td>\n",
       "      <td>4</td>\n",
       "    </tr>\n",
       "    <tr>\n",
       "      <th>7171</th>\n",
       "      <td>7171</td>\n",
       "      <td>2</td>\n",
       "    </tr>\n",
       "  </tbody>\n",
       "</table>\n",
       "<p>7172 rows × 2 columns</p>\n",
       "</div>"
      ],
      "text/plain": [
       "        id  label\n",
       "0        0      6\n",
       "1        1      5\n",
       "2        2     10\n",
       "3        3      0\n",
       "4        4      3\n",
       "...    ...    ...\n",
       "7167  7167      1\n",
       "7168  7168     12\n",
       "7169  7169      2\n",
       "7170  7170      4\n",
       "7171  7171      2\n",
       "\n",
       "[7172 rows x 2 columns]"
      ]
     },
     "execution_count": 16,
     "metadata": {},
     "output_type": "execute_result"
    }
   ],
   "source": [
    "submit"
   ]
  },
  {
   "cell_type": "code",
   "execution_count": null,
   "id": "be6ca4d7",
   "metadata": {
    "papermill": {
     "duration": 0.23012,
     "end_time": "2024-08-18T16:53:02.670171",
     "exception": false,
     "start_time": "2024-08-18T16:53:02.440051",
     "status": "completed"
    },
    "tags": []
   },
   "outputs": [],
   "source": []
  }
 ],
 "metadata": {
  "kaggle": {
   "accelerator": "nvidiaTeslaT4",
   "dataSources": [
    {
     "databundleVersionId": 9016062,
     "sourceId": 82514,
     "sourceType": "competition"
    }
   ],
   "dockerImageVersionId": 30747,
   "isGpuEnabled": true,
   "isInternetEnabled": true,
   "language": "python",
   "sourceType": "notebook"
  },
  "kernelspec": {
   "display_name": "Python 3",
   "language": "python",
   "name": "python3"
  },
  "language_info": {
   "codemirror_mode": {
    "name": "ipython",
    "version": 3
   },
   "file_extension": ".py",
   "mimetype": "text/x-python",
   "name": "python",
   "nbconvert_exporter": "python",
   "pygments_lexer": "ipython3",
   "version": "3.10.13"
  },
  "papermill": {
   "default_parameters": {},
   "duration": 1845.107995,
   "end_time": "2024-08-18T16:53:04.627849",
   "environment_variables": {},
   "exception": null,
   "input_path": "__notebook__.ipynb",
   "output_path": "__notebook__.ipynb",
   "parameters": {},
   "start_time": "2024-08-18T16:22:19.519854",
   "version": "2.5.0"
  }
 },
 "nbformat": 4,
 "nbformat_minor": 5
}
